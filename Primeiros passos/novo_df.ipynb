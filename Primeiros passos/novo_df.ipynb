{
 "cells": [
  {
   "cell_type": "code",
   "execution_count": null,
   "metadata": {},
   "outputs": [],
   "source": [
    "##### Criando um dataframe enriquecido dos dados coletados\n",
    "### Importando bibliotecas\n",
    "import pandas as pd\n",
    "import pathlib\n",
    "import json\n",
    "#https://github.com/okfn-brasil/querido-diario-api\n",
    "\n",
    "# Definindo diretório\n",
    "PATH = (\".\")\n",
    "\n",
    "# Funcao para extrair informacoes do json\n",
    "## Dataset final: c(\"territory_id\", \"date\", \"territory_name\", \"state_code\",\n",
    "# \"excerpts\")\n",
    "\n",
    "with open('./raw_data/response_1000db.json', 'r', encoding='utf-8') as json_file:\n",
    "    data1 = json.load(json_file)\n",
    "    \n",
    "with open('./raw_data/response_406db.json', 'r', encoding='utf-8') as json_file:\n",
    "    data2 = json.load(json_file)\n",
    "\n",
    "data1 = data1['gazettes']\n",
    "data2 = data2['gazettes']\n",
    "data = data1 + data2\n",
    "\n"
   ]
  },
  {
   "cell_type": "code",
   "execution_count": null,
   "metadata": {},
   "outputs": [],
   "source": [
    "\n",
    "## Checando os dados\n",
    "print(len(data))\n",
    "\n",
    "# Criando um dataframe e checando o territory_id\n",
    "df = pd.DataFrame(data, columns=['territory_id', 'date', 'territory_name', 'state_code', 'excerpts'])\n",
    "df['mes_dia'] = df['date'].str.extract(r'(\\d{2}-\\d{2})')\n",
    "\n",
    "#df['date'] = pd.to_datetime(df['date'])\n",
    "#df['mes_dia'] = df['date'].dt.strftime('%m-%d')\n",
    "\n",
    "count_id = df['territory_id'].value_counts()\n",
    "count_date = df['date'].value_counts()\n",
    "##count_mes_dia = df['mes_dia'].value_counts().reset_index()\n",
    "\n",
    "df['count_id'] = df['territory_id'].map(count_id)\n",
    "df['count_date'] = df['date'].map(count_date)\n",
    "##df['count_mes_dia'] = df['territory_id'].map(count_mes_dia)\n"
   ]
  },
  {
   "cell_type": "code",
   "execution_count": null,
   "metadata": {},
   "outputs": [],
   "source": [
    "print(\"Dia/mes/ano com mais publicações\")\n",
    "print(df.sort_values(by='count_date', ascending=False).head(20))\n",
    "### Muitas repetições do dia 30/12, mas o dia exato foram 18 datas que se repetiram 3 vezes.\n",
    "print(\"Dia/mes com mais publicações\")\n",
    "#print(df.sort_values(by='count_dia_mes', ascending=False).head(20))\n",
    "###\n",
    "print('Publicações mais antigas')\n",
    "print(df.sort_values(by='date', ascending=True))\n",
    "### Publicações mais antigas 11/08/2011 (Santos), 06/01/2012 (Salvador), 02/05/2012 (Salvador), 03/05/2012 (Rio de Janeiro).\n",
    "\n",
    "df_cities = df.drop_duplicates(subset=['territory_id'])\n",
    "print(\"Cidades que mais publicaram\")\n",
    "pd.set_option('display.max_columns', None)\n",
    "print(df_cities.sort_values(by='count_id', ascending=False))\n",
    "### Cidades que mais publicaram: Cuiabá (60), Uberaba (45), Jundiaí (43) e Guarulhos (28)"
   ]
  }
 ],
 "metadata": {
  "kernelspec": {
   "display_name": "Python 3",
   "language": "python",
   "name": "python3"
  },
  "language_info": {
   "name": "python",
   "version": "3.10.12"
  },
  "orig_nbformat": 4
 },
 "nbformat": 4,
 "nbformat_minor": 2
}
